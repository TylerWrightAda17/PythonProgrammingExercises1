{
 "cells": [
  {
   "cell_type": "code",
   "execution_count": 4,
   "metadata": {},
   "outputs": [
    {
     "name": "stdout",
     "output_type": "stream",
     "text": [
      "hello *******!!\n"
     ]
    }
   ],
   "source": [
    "#more code\n",
    "name = \"UnKnown\"\n",
    "\n",
    "if name == \"UnKnown\":\n",
    "    print(\"hello *******!!\")\n",
    "else:\n",
    "    print(\"you are NOT Unknown\")\n",
    "    "
   ]
  },
  {
   "cell_type": "markdown",
   "metadata": {},
   "source": [
    "# Jupyter Practice Notebook\n",
    "\n",
    "A jupyter notebook is made of cells that are either\n",
    "\n",
    "1. Python code (Jupyter does support other languages but we’ll start with Python 3.x)\n",
    "\n",
    "2. Text formatted in Markdown\n",
    "\n",
    "To make a new cell use **SHIFT+ENTER** (or from the Menu : Insert >> Insert Cell Below)\n",
    "\n",
    "By default new cells are CODE cells. Press **CTRL+ENTER** to run code cells\n",
    "\n",
    "To make them markdown (md) cell press **ESC** then **m**\n"
   ]
  },
  {
   "cell_type": "code",
   "execution_count": 3,
   "metadata": {},
   "outputs": [
    {
     "name": "stdout",
     "output_type": "stream",
     "text": [
      "hello World????\n",
      "7\n"
     ]
    }
   ],
   "source": [
    "#this is a code cell. Use CRTL+ENTER to run \n",
    "print(\"hello World????\")\n",
    "a=2\n",
    "b=5\n",
    "print(a+b)"
   ]
  },
  {
   "cell_type": "markdown",
   "metadata": {},
   "source": [
    "# Heading 1\n",
    "\n",
    "## heading 2\n",
    "\n",
    "1. numbered\n",
    "2. list\n",
    "\n",
    "You can also write Python formatted text in markdown (it won't run!):\n",
    "```python\n",
    "print(\"hello world\")\n",
    "```\n",
    "\n",
    "**bold** *italics* _also italics_  __also bold__\n",
    "\n",
    "[links work like this](http://google.com)\n",
    "\n",
    "[here is a link to a github markdown cheatsheet that works with github and jupyter](https://github.com/adam-p/markdown-here/wiki/Markdown-Cheatsheet)\n",
    "\n",
    "[Jupyter uses a flavour of md called pandoc....](http://rmarkdown.rstudio.com/authoring_pandoc_markdown.html)\n",
    "\n",
    "\n",
    "| This | is   | a | table |\n",
    "|:------|:------|:----:|----:|\n",
    "|  left align | left|center| right|\n",
    "\n"
   ]
  }
 ],
 "metadata": {
  "kernelspec": {
   "display_name": "Python 3",
   "language": "python",
   "name": "python3"
  },
  "language_info": {
   "codemirror_mode": {
    "name": "ipython",
    "version": 3
   },
   "file_extension": ".py",
   "mimetype": "text/x-python",
   "name": "python",
   "nbconvert_exporter": "python",
   "pygments_lexer": "ipython3",
   "version": "3.6.8"
  }
 },
 "nbformat": 4,
 "nbformat_minor": 2
}
